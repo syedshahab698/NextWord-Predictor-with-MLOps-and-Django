{
 "cells": [
  {
   "attachments": {},
   "cell_type": "markdown",
   "metadata": {
    "id": "sxXDSHvlE0nN"
   },
   "source": [
    "Bi-LSTM Model"
   ]
  },
  {
   "cell_type": "code",
   "execution_count": 1,
   "metadata": {
    "id": "QBr58QZVC9HC"
   },
   "outputs": [],
   "source": [
    "import pandas as pd\n",
    "import os\n",
    "import numpy as np\n",
    "\n",
    "import tensorflow as tf\n",
    "from tensorflow.keras.preprocessing.sequence import pad_sequences\n",
    "from tensorflow.keras.layers import Embedding, LSTM, Dense, Bidirectional\n",
    "from tensorflow.keras.preprocessing.text import Tokenizer\n",
    "from tensorflow.keras.models import Sequential\n",
    "from tensorflow.keras.optimizers import Adam\n"
   ]
  },
  {
   "cell_type": "code",
   "execution_count": null,
   "metadata": {},
   "outputs": [],
   "source": []
  },
  {
   "cell_type": "code",
   "execution_count": 2,
   "metadata": {
    "id": "KQD4EjSpDG1t"
   },
   "outputs": [
    {
     "data": {
      "text/html": [
       "<div>\n",
       "<style scoped>\n",
       "    .dataframe tbody tr th:only-of-type {\n",
       "        vertical-align: middle;\n",
       "    }\n",
       "\n",
       "    .dataframe tbody tr th {\n",
       "        vertical-align: top;\n",
       "    }\n",
       "\n",
       "    .dataframe thead th {\n",
       "        text-align: right;\n",
       "    }\n",
       "</style>\n",
       "<table border=\"1\" class=\"dataframe\">\n",
       "  <thead>\n",
       "    <tr style=\"text-align: right;\">\n",
       "      <th></th>\n",
       "      <th>id</th>\n",
       "      <th>url</th>\n",
       "      <th>title</th>\n",
       "      <th>subtitle</th>\n",
       "      <th>image</th>\n",
       "      <th>claps</th>\n",
       "      <th>responses</th>\n",
       "      <th>reading_time</th>\n",
       "      <th>publication</th>\n",
       "      <th>date</th>\n",
       "    </tr>\n",
       "  </thead>\n",
       "  <tbody>\n",
       "    <tr>\n",
       "      <th>0</th>\n",
       "      <td>1</td>\n",
       "      <td>https://towardsdatascience.com/a-beginners-gui...</td>\n",
       "      <td>A Beginner’s Guide to Word Embedding with Gens...</td>\n",
       "      <td>NaN</td>\n",
       "      <td>1.png</td>\n",
       "      <td>850</td>\n",
       "      <td>8</td>\n",
       "      <td>8</td>\n",
       "      <td>Towards Data Science</td>\n",
       "      <td>2019-05-30</td>\n",
       "    </tr>\n",
       "    <tr>\n",
       "      <th>1</th>\n",
       "      <td>2</td>\n",
       "      <td>https://towardsdatascience.com/hands-on-graph-...</td>\n",
       "      <td>Hands-on Graph Neural Networks with PyTorch &amp; ...</td>\n",
       "      <td>NaN</td>\n",
       "      <td>2.png</td>\n",
       "      <td>1100</td>\n",
       "      <td>11</td>\n",
       "      <td>9</td>\n",
       "      <td>Towards Data Science</td>\n",
       "      <td>2019-05-30</td>\n",
       "    </tr>\n",
       "    <tr>\n",
       "      <th>2</th>\n",
       "      <td>3</td>\n",
       "      <td>https://towardsdatascience.com/how-to-use-ggpl...</td>\n",
       "      <td>How to Use ggplot2 in Python</td>\n",
       "      <td>A Grammar of Graphics for Python</td>\n",
       "      <td>3.png</td>\n",
       "      <td>767</td>\n",
       "      <td>1</td>\n",
       "      <td>5</td>\n",
       "      <td>Towards Data Science</td>\n",
       "      <td>2019-05-30</td>\n",
       "    </tr>\n",
       "    <tr>\n",
       "      <th>3</th>\n",
       "      <td>4</td>\n",
       "      <td>https://towardsdatascience.com/databricks-how-...</td>\n",
       "      <td>Databricks: How to Save Files in CSV on Your L...</td>\n",
       "      <td>When I work on Python projects dealing…</td>\n",
       "      <td>4.jpeg</td>\n",
       "      <td>354</td>\n",
       "      <td>0</td>\n",
       "      <td>4</td>\n",
       "      <td>Towards Data Science</td>\n",
       "      <td>2019-05-30</td>\n",
       "    </tr>\n",
       "    <tr>\n",
       "      <th>4</th>\n",
       "      <td>5</td>\n",
       "      <td>https://towardsdatascience.com/a-step-by-step-...</td>\n",
       "      <td>A Step-by-Step Implementation of Gradient Desc...</td>\n",
       "      <td>One example of building neural…</td>\n",
       "      <td>5.jpeg</td>\n",
       "      <td>211</td>\n",
       "      <td>3</td>\n",
       "      <td>4</td>\n",
       "      <td>Towards Data Science</td>\n",
       "      <td>2019-05-30</td>\n",
       "    </tr>\n",
       "  </tbody>\n",
       "</table>\n",
       "</div>"
      ],
      "text/plain": [
       "   id                                                url   \n",
       "0   1  https://towardsdatascience.com/a-beginners-gui...  \\\n",
       "1   2  https://towardsdatascience.com/hands-on-graph-...   \n",
       "2   3  https://towardsdatascience.com/how-to-use-ggpl...   \n",
       "3   4  https://towardsdatascience.com/databricks-how-...   \n",
       "4   5  https://towardsdatascience.com/a-step-by-step-...   \n",
       "\n",
       "                                               title   \n",
       "0  A Beginner’s Guide to Word Embedding with Gens...  \\\n",
       "1  Hands-on Graph Neural Networks with PyTorch & ...   \n",
       "2                       How to Use ggplot2 in Python   \n",
       "3  Databricks: How to Save Files in CSV on Your L...   \n",
       "4  A Step-by-Step Implementation of Gradient Desc...   \n",
       "\n",
       "                                  subtitle   image  claps responses   \n",
       "0                                      NaN   1.png    850         8  \\\n",
       "1                                      NaN   2.png   1100        11   \n",
       "2         A Grammar of Graphics for Python   3.png    767         1   \n",
       "3  When I work on Python projects dealing…  4.jpeg    354         0   \n",
       "4          One example of building neural…  5.jpeg    211         3   \n",
       "\n",
       "   reading_time           publication        date  \n",
       "0             8  Towards Data Science  2019-05-30  \n",
       "1             9  Towards Data Science  2019-05-30  \n",
       "2             5  Towards Data Science  2019-05-30  \n",
       "3             4  Towards Data Science  2019-05-30  \n",
       "4             4  Towards Data Science  2019-05-30  "
      ]
     },
     "execution_count": 2,
     "metadata": {},
     "output_type": "execute_result"
    }
   ],
   "source": [
    "p = pd.read_csv('../data/external/medium_data.csv')\n",
    "p.head()\n"
   ]
  },
  {
   "cell_type": "code",
   "execution_count": 3,
   "metadata": {
    "id": "kQulqjiiDaSF"
   },
   "outputs": [
    {
     "name": "stdout",
     "output_type": "stream",
     "text": [
      "Number of records:  6508\n",
      "Number of fields:  10\n"
     ]
    }
   ],
   "source": [
    "print(\"Number of records: \", p.shape[0])\n",
    "print(\"Number of fields: \", p.shape[1])"
   ]
  },
  {
   "cell_type": "code",
   "execution_count": 4,
   "metadata": {
    "id": "ps1YEFT9DgOd"
   },
   "outputs": [
    {
     "data": {
      "text/plain": [
       "0       A Beginner’s Guide to Word Embedding with Gens...\n",
       "1       Hands-on Graph Neural Networks with PyTorch & ...\n",
       "2                            How to Use ggplot2 in Python\n",
       "3       Databricks: How to Save Files in CSV on Your L...\n",
       "4       A Step-by-Step Implementation of Gradient Desc...\n",
       "                              ...                        \n",
       "6503    “We” vs “I” — How Should You Talk About Yourse...\n",
       "6504                     How Donald Trump Markets Himself\n",
       "6505        Content and Marketing Beyond Mass Consumption\n",
       "6506    5 Questions All Copywriters Should Ask Clients...\n",
       "6507               How To Write a Good Business Blog Post\n",
       "Name: title, Length: 6508, dtype: object"
      ]
     },
     "execution_count": 4,
     "metadata": {},
     "output_type": "execute_result"
    }
   ],
   "source": [
    "p['title']"
   ]
  },
  {
   "cell_type": "code",
   "execution_count": 5,
   "metadata": {
    "id": "mXVZ_3UHDpHO"
   },
   "outputs": [],
   "source": [
    "p['title'] = p['title'].apply(lambda x: x.replace(u'\\xa0',u' '))\n",
    "p['title'] = p['title'].apply(lambda x: x.replace('\\u200a',' '))"
   ]
  },
  {
   "cell_type": "code",
   "execution_count": 6,
   "metadata": {
    "id": "Rm79Bb-pD0w0"
   },
   "outputs": [
    {
     "name": "stdout",
     "output_type": "stream",
     "text": [
      "Total number of words:  8238\n",
      "Word: ID\n",
      "------------\n",
      "<oov>:  1\n",
      "Strong:  4\n",
      "And:  8\n",
      "Consumption:  8237\n"
     ]
    }
   ],
   "source": [
    "tokenizer = Tokenizer(oov_token='<oov>')\n",
    "tokenizer.fit_on_texts(p['title'])\n",
    "total_words = len(tokenizer.word_index) + 1\n",
    "\n",
    "print(\"Total number of words: \", total_words)\n",
    "print(\"Word: ID\")\n",
    "print(\"------------\")\n",
    "print(\"<oov>: \", tokenizer.word_index['<oov>'])\n",
    "print(\"Strong: \", tokenizer.word_index['strong'])\n",
    "print(\"And: \", tokenizer.word_index['and'])\n",
    "print(\"Consumption: \", tokenizer.word_index['consumption'])"
   ]
  },
  {
   "cell_type": "code",
   "execution_count": 7,
   "metadata": {
    "id": "Aoy5lIzaD9cR"
   },
   "outputs": [
    {
     "name": "stdout",
     "output_type": "stream",
     "text": [
      "Total input sequences:  48461\n"
     ]
    }
   ],
   "source": [
    "input_sequences = []\n",
    "for line in p['title']:\n",
    "    token_list = tokenizer.texts_to_sequences([line])[0]\n",
    "    #print(token_list)\n",
    "\n",
    "    for i in range(1, len(token_list)):\n",
    "        n_gram_sequence = token_list[:i+1]\n",
    "        input_sequences.append(n_gram_sequence)\n",
    "\n",
    "# print(input_sequences)\n",
    "print(\"Total input sequences: \", len(input_sequences))"
   ]
  },
  {
   "cell_type": "code",
   "execution_count": 28,
   "metadata": {},
   "outputs": [
    {
     "data": {
      "text/plain": [
       "40"
      ]
     },
     "execution_count": 28,
     "metadata": {},
     "output_type": "execute_result"
    }
   ],
   "source": [
    "max_sequence_len"
   ]
  },
  {
   "cell_type": "code",
   "execution_count": 8,
   "metadata": {
    "id": "J9WacWfHEHL9"
   },
   "outputs": [
    {
     "data": {
      "text/plain": [
       "array([  0,   0,   0,   0,   0,   0,   0,   0,   0,   0,   0,   0,   0,\n",
       "         0,   0,   0,   0,   0,   0,   0,   0,   0,   0,   0,   0,   0,\n",
       "         0,   0,   0,   0,   0,   0,   0,   0,   0,   0,   0,   5, 676,\n",
       "        68])"
      ]
     },
     "execution_count": 8,
     "metadata": {},
     "output_type": "execute_result"
    }
   ],
   "source": [
    "max_sequence_len = max([len(x) for x in input_sequences])\n",
    "input_sequences = np.array(pad_sequences(input_sequences, maxlen=max_sequence_len, padding='pre'))\n",
    "input_sequences[1]"
   ]
  },
  {
   "cell_type": "code",
   "execution_count": 9,
   "metadata": {
    "id": "_gChzvD7EOHU"
   },
   "outputs": [
    {
     "name": "stdout",
     "output_type": "stream",
     "text": [
      "[   0    0    0    0    0    0    0    0    0    0    0    0    0    0\n",
      "    0    0    0    0    0    0    0    0    0    0    0    0    0    0\n",
      "    0    0    0    0    0    5  676   68    2  452 1518]\n",
      "14\n",
      "1.0\n"
     ]
    }
   ],
   "source": [
    "xs, labels = input_sequences[:,:-1],input_sequences[:,-1]\n",
    "ys = tf.keras.utils.to_categorical(labels, num_classes=total_words)\n",
    "print(xs[5])\n",
    "print(labels[5])\n",
    "print(ys[5][14])"
   ]
  },
  {
   "cell_type": "code",
   "execution_count": 10,
   "metadata": {
    "id": "82DL_aTTETYe"
   },
   "outputs": [
    {
     "name": "stderr",
     "output_type": "stream",
     "text": [
      "WARNING:absl:`lr` is deprecated in Keras optimizer, please use `learning_rate` or use the legacy optimizer, e.g.,tf.keras.optimizers.legacy.Adam.\n"
     ]
    },
    {
     "name": "stdout",
     "output_type": "stream",
     "text": [
      "Epoch 1/50\n",
      "1515/1515 [==============================] - 112s 72ms/step - loss: 6.9906 - accuracy: 0.0848\n",
      "Epoch 2/50\n",
      "1515/1515 [==============================] - 115s 76ms/step - loss: 6.1709 - accuracy: 0.1396\n",
      "Epoch 3/50\n",
      "1515/1515 [==============================] - 117s 77ms/step - loss: 5.6534 - accuracy: 0.1675\n",
      "Epoch 4/50\n",
      "1515/1515 [==============================] - 114s 75ms/step - loss: 5.1869 - accuracy: 0.1907\n",
      "Epoch 5/50\n",
      "1515/1515 [==============================] - 114s 75ms/step - loss: 4.7469 - accuracy: 0.2137\n",
      "Epoch 6/50\n",
      "1515/1515 [==============================] - 113s 74ms/step - loss: 4.3309 - accuracy: 0.2431\n",
      "Epoch 7/50\n",
      "1515/1515 [==============================] - 113s 75ms/step - loss: 3.9389 - accuracy: 0.2819\n",
      "Epoch 8/50\n",
      "1515/1515 [==============================] - 114s 75ms/step - loss: 3.5670 - accuracy: 0.3284\n",
      "Epoch 9/50\n",
      "1515/1515 [==============================] - 871s 575ms/step - loss: 3.2218 - accuracy: 0.3828\n",
      "Epoch 10/50\n",
      "1515/1515 [==============================] - 126s 83ms/step - loss: 2.9062 - accuracy: 0.4379\n",
      "Epoch 11/50\n",
      "1515/1515 [==============================] - 124s 82ms/step - loss: 2.6246 - accuracy: 0.4859\n",
      "Epoch 12/50\n",
      "1515/1515 [==============================] - 119s 78ms/step - loss: 2.3709 - accuracy: 0.5306\n",
      "Epoch 13/50\n",
      "1515/1515 [==============================] - 111s 74ms/step - loss: 2.1500 - accuracy: 0.5742\n",
      "Epoch 14/50\n",
      "1515/1515 [==============================] - 110s 72ms/step - loss: 1.9513 - accuracy: 0.6121\n",
      "Epoch 15/50\n",
      "1515/1515 [==============================] - 110s 72ms/step - loss: 1.7738 - accuracy: 0.6470\n",
      "Epoch 16/50\n",
      "1515/1515 [==============================] - 105s 69ms/step - loss: 1.6180 - accuracy: 0.6777\n",
      "Epoch 17/50\n",
      "1515/1515 [==============================] - 103s 68ms/step - loss: 1.4793 - accuracy: 0.7071\n",
      "Epoch 18/50\n",
      "1515/1515 [==============================] - 104s 68ms/step - loss: 1.3581 - accuracy: 0.7307\n",
      "Epoch 19/50\n",
      "1515/1515 [==============================] - 104s 69ms/step - loss: 1.2503 - accuracy: 0.7510\n",
      "Epoch 20/50\n",
      "1515/1515 [==============================] - 104s 68ms/step - loss: 1.1574 - accuracy: 0.7689\n",
      "Epoch 21/50\n",
      "1515/1515 [==============================] - 6197s 4s/step - loss: 1.0774 - accuracy: 0.7836\n",
      "Epoch 22/50\n",
      "1515/1515 [==============================] - 101s 67ms/step - loss: 1.0080 - accuracy: 0.7969\n",
      "Epoch 23/50\n",
      "1515/1515 [==============================] - 103s 68ms/step - loss: 0.9470 - accuracy: 0.8068\n",
      "Epoch 24/50\n",
      "1515/1515 [==============================] - 104s 69ms/step - loss: 0.8925 - accuracy: 0.8175\n",
      "Epoch 25/50\n",
      "1515/1515 [==============================] - 99s 65ms/step - loss: 0.8471 - accuracy: 0.8253\n",
      "Epoch 26/50\n",
      "1515/1515 [==============================] - 99s 66ms/step - loss: 0.8091 - accuracy: 0.8313\n",
      "Epoch 27/50\n",
      "1515/1515 [==============================] - 101s 66ms/step - loss: 0.7742 - accuracy: 0.8356\n",
      "Epoch 28/50\n",
      "1515/1515 [==============================] - 101s 67ms/step - loss: 0.7470 - accuracy: 0.8400\n",
      "Epoch 29/50\n",
      "1515/1515 [==============================] - 104s 68ms/step - loss: 0.7199 - accuracy: 0.8442\n",
      "Epoch 30/50\n",
      "1515/1515 [==============================] - 1544s 1s/step - loss: 0.7002 - accuracy: 0.8465\n",
      "Epoch 31/50\n",
      "1515/1515 [==============================] - 103s 68ms/step - loss: 0.6815 - accuracy: 0.8484\n",
      "Epoch 32/50\n",
      "1515/1515 [==============================] - 106s 70ms/step - loss: 0.6668 - accuracy: 0.8491\n",
      "Epoch 33/50\n",
      "1515/1515 [==============================] - 108s 71ms/step - loss: 0.6557 - accuracy: 0.8513\n",
      "Epoch 34/50\n",
      "1515/1515 [==============================] - 107s 70ms/step - loss: 0.6419 - accuracy: 0.8524\n",
      "Epoch 35/50\n",
      "1515/1515 [==============================] - 110s 73ms/step - loss: 0.6312 - accuracy: 0.8534\n",
      "Epoch 36/50\n",
      "1515/1515 [==============================] - 107s 70ms/step - loss: 0.6244 - accuracy: 0.8540\n",
      "Epoch 37/50\n",
      "1515/1515 [==============================] - 103s 68ms/step - loss: 0.6194 - accuracy: 0.8536\n",
      "Epoch 38/50\n",
      "1515/1515 [==============================] - 103s 68ms/step - loss: 0.6103 - accuracy: 0.8543\n",
      "Epoch 39/50\n",
      "1515/1515 [==============================] - 104s 69ms/step - loss: 0.6047 - accuracy: 0.8540\n",
      "Epoch 40/50\n",
      "1515/1515 [==============================] - 103s 68ms/step - loss: 0.5986 - accuracy: 0.8546\n",
      "Epoch 41/50\n",
      "1515/1515 [==============================] - 103s 68ms/step - loss: 0.5955 - accuracy: 0.8550\n",
      "Epoch 42/50\n",
      "1515/1515 [==============================] - 136s 90ms/step - loss: 0.5909 - accuracy: 0.8549\n",
      "Epoch 43/50\n",
      "1515/1515 [==============================] - 123s 81ms/step - loss: 0.5876 - accuracy: 0.8552\n",
      "Epoch 44/50\n",
      "1515/1515 [==============================] - 118s 78ms/step - loss: 0.5841 - accuracy: 0.8557\n",
      "Epoch 45/50\n",
      "1515/1515 [==============================] - 119s 79ms/step - loss: 0.5804 - accuracy: 0.8555\n",
      "Epoch 46/50\n",
      "1515/1515 [==============================] - 107s 71ms/step - loss: 0.5786 - accuracy: 0.8553\n",
      "Epoch 47/50\n",
      "1515/1515 [==============================] - 108s 71ms/step - loss: 0.5770 - accuracy: 0.8545\n",
      "Epoch 48/50\n",
      "1515/1515 [==============================] - 108s 72ms/step - loss: 0.5741 - accuracy: 0.8561\n",
      "Epoch 49/50\n",
      "1515/1515 [==============================] - 107s 70ms/step - loss: 0.5707 - accuracy: 0.8553\n",
      "Epoch 50/50\n",
      "1515/1515 [==============================] - 109s 72ms/step - loss: 0.5698 - accuracy: 0.8559\n",
      "<keras.engine.sequential.Sequential object at 0x00000260F8769190>\n"
     ]
    }
   ],
   "source": [
    "model = Sequential()\n",
    "model.add(Embedding(total_words, 100, input_length=max_sequence_len-1))\n",
    "model.add(Bidirectional(LSTM(150)))\n",
    "model.add(Dense(total_words, activation='softmax'))\n",
    "adam = Adam(lr=0.01)\n",
    "model.compile(loss='categorical_crossentropy', optimizer=adam, metrics=['accuracy'])\n",
    "history = model.fit(xs, ys, epochs=50, verbose=1)\n",
    "\n",
    "print(model)"
   ]
  },
  {
   "cell_type": "code",
   "execution_count": 12,
   "metadata": {},
   "outputs": [
    {
     "name": "stderr",
     "output_type": "stream",
     "text": [
      "WARNING:absl:Found untraced functions such as _update_step_xla, lstm_cell_1_layer_call_fn, lstm_cell_1_layer_call_and_return_conditional_losses, lstm_cell_2_layer_call_fn, lstm_cell_2_layer_call_and_return_conditional_losses while saving (showing 5 of 5). These functions will not be directly callable after loading.\n"
     ]
    },
    {
     "name": "stdout",
     "output_type": "stream",
     "text": [
      "INFO:tensorflow:Assets written to: bilstm_nwp\\assets\n"
     ]
    },
    {
     "name": "stderr",
     "output_type": "stream",
     "text": [
      "INFO:tensorflow:Assets written to: bilstm_nwp\\assets\n"
     ]
    }
   ],
   "source": [
    "import pickle\n",
    "\n",
    "pickle.dump(tokenizer, open('../models/tokenizer.pkl', 'wb'))\n",
    "\n",
    "\n",
    "model.save('../models/bilstm_nwp')\n"
   ]
  },
  {
   "cell_type": "code",
   "execution_count": 16,
   "metadata": {
    "id": "cFf3OksDEawm"
   },
   "outputs": [],
   "source": [
    "import matplotlib.pyplot as plt\n",
    "\n",
    "\n",
    "def plot_graphs(history, string):\n",
    "    plt.plot(history.history[string])\n",
    "    plt.xlabel(\"Epochs\")\n",
    "    plt.ylabel(string)\n",
    "    plt.show()\n"
   ]
  },
  {
   "cell_type": "code",
   "execution_count": 17,
   "metadata": {
    "id": "ghpFnAmlEks_"
   },
   "outputs": [
    {
     "data": {
      "image/png": "[encoded data removed]",
      "text/plain": [
       "<Figure size 432x288 with 1 Axes>"
      ]
     },
     "metadata": {
      "needs_background": "light"
     },
     "output_type": "display_data"
    }
   ],
   "source": [
    "plot_graphs(history, 'accuracy')"
   ]
  },
  {
   "cell_type": "code",
   "execution_count": 18,
   "metadata": {
    "id": "0VQiEoLVElR3"
   },
   "outputs": [
    {
     "data": {
      "image/png": "[encoded data removed]",
      "text/plain": [
       "<Figure size 432x288 with 1 Axes>"
      ]
     },
     "metadata": {
      "needs_background": "light"
     },
     "output_type": "display_data"
    }
   ],
   "source": [
    "plot_graphs(history, 'loss')"
   ]
  },
  {
   "cell_type": "code",
   "execution_count": 8,
   "metadata": {
    "id": "zanFYD2UEn7a"
   },
   "outputs": [],
   "source": [
    "# seed_text = \"Data science is a field of\"\n",
    "# next_words = 10\n",
    "# max_sequence_len = 40\n",
    "\n",
    "# tokenizer = pickle.load( open('../models/tokenizer.pkl', 'rb'))\n",
    "# new_model = tf.keras.models.load_model('../models/bilstm_nwp')\n",
    "\n",
    "\n",
    "# for _ in range(next_words):\n",
    "#     token_list = tokenizer.texts_to_sequences([seed_text])[0]\n",
    "#     token_list = pad_sequences([token_list], maxlen=max_sequence_len-1, padding='pre')\n",
    "# #     predicted = model.predict_classes(token_list, verbose=0)\n",
    "#     predict_x=new_model.predict(token_list, verbose = 0) \n",
    "#     predicted=np.argmax(predict_x,axis=1)\n",
    "#     output_word = \"\"\n",
    "#     for word, index in tokenizer.word_index.items():\n",
    "#         if index == predicted:\n",
    "#             output_word = word\n",
    "#             break\n",
    "#     seed_text += \" \" + output_word\n",
    "# print(seed_text)"
   ]
  },
  {
   "cell_type": "code",
   "execution_count": 11,
   "metadata": {},
   "outputs": [
    {
     "data": {
      "application/javascript": "\n        if (window._pyforest_update_imports_cell) { window._pyforest_update_imports_cell('import pickle'); }\n    ",
      "text/plain": [
       "<IPython.core.display.Javascript object>"
      ]
     },
     "metadata": {},
     "output_type": "display_data"
    },
    {
     "name": "stdout",
     "output_type": "stream",
     "text": [
      "['market', 'not', '2020', 'marketing', 'a']\n",
      "[0.2350564  0.1617463  0.14085849 0.07322162 0.0474061 ]\n"
     ]
    }
   ],
   "source": [
    "input_text = 'Artificial intelligence can be used in '\n",
    "max_sequence_len = 40\n",
    "\n",
    "tokenizer = pickle.load( open('../models/tokenizer.pkl', 'rb'))\n",
    "new_model = tf.keras.models.load_model('../models/bilstm_nwp')\n",
    "\n",
    "token_list = tokenizer.texts_to_sequences([input_text])[0]\n",
    "token_list = pad_sequences([token_list], maxlen=max_sequence_len-1, padding='pre')\n",
    "#     predicted = model.predict_classes(token_list, verbose=0)\n",
    "predict_x=new_model.predict(token_list, verbose = 0) \n",
    "predict_x = predict_x.reshape(-1)\n",
    "\n",
    "sorted_indices = np.argsort(predict_x)[::-1]\n",
    "\n",
    "# Get the top 10 values and their indices\n",
    "top_5_score = predict_x[sorted_indices[:5]]\n",
    "top_5_indices = sorted_indices[:5]\n",
    "\n",
    "def get_word_for_index(pred_index):\n",
    "    for word, index in tokenizer.word_index.items():\n",
    "        if pred_index == index:\n",
    "            return word\n",
    "        \n",
    "    \n",
    "top_5_words = [get_word_for_index(i) for i in top_5_indices ]\n",
    "print(top_5_words)\n",
    "print(top_5_score)"
   ]
  },
  {
   "cell_type": "code",
   "execution_count": null,
   "metadata": {},
   "outputs": [],
   "source": []
  }
 ],
 "metadata": {
  "colab": {
   "provenance": []
  },
  "kernelspec": {
   "display_name": "Python 3",
   "language": "python",
   "name": "python3"
  },
  "language_info": {
   "codemirror_mode": {
    "name": "ipython",
    "version": 3
   },
   "file_extension": ".py",
   "mimetype": "text/x-python",
   "name": "python",
   "nbconvert_exporter": "python",
   "pygments_lexer": "ipython3",
   "version": "3.8.3"
  }
 },
 "nbformat": 4,
 "nbformat_minor": 1
}
